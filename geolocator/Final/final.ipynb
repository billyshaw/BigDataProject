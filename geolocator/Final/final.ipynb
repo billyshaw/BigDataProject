{
 "metadata": {
  "name": "",
  "signature": "sha256:4d8b21ba44dc47ea5dcc04e38ace600a3116767486dd5603d3164e08529ea26e"
 },
 "nbformat": 3,
 "nbformat_minor": 0,
 "worksheets": [
  {
   "cells": [
    {
     "cell_type": "code",
     "collapsed": false,
     "input": [
      "import pandas as pd\n",
      "import os"
     ],
     "language": "python",
     "metadata": {},
     "outputs": [],
     "prompt_number": 2
    },
    {
     "cell_type": "code",
     "collapsed": false,
     "input": [
      "merged_data = pd.read_csv(\"merged_trip_fare_data.csv\")"
     ],
     "language": "python",
     "metadata": {},
     "outputs": [],
     "prompt_number": 3
    },
    {
     "cell_type": "code",
     "collapsed": false,
     "input": [
      "merged_data['fare_p'] = merged_data['tip_amount'] / merged_data['fare_amount']"
     ],
     "language": "python",
     "metadata": {},
     "outputs": [],
     "prompt_number": 5
    },
    {
     "cell_type": "markdown",
     "metadata": {},
     "source": [
      "Find percentage count of rides per pickup neighborhood"
     ]
    },
    {
     "cell_type": "code",
     "collapsed": false,
     "input": [
      "neighborhood_count = merged_data.groupby(\"pickup_neighborhood\").count()\n",
      "neighborhood_count['count_p'] = neighborhood_count['fare_p'] / neighborhood_count['fare_p'].sum()\n",
      "top_neighborhood = neighborhood_count['count_p'].order(ascending=False)\n",
      "top_neighborhood.to_csv(\"top_neighborhood.csv\")"
     ],
     "language": "python",
     "metadata": {},
     "outputs": [],
     "prompt_number": 6
    },
    {
     "cell_type": "markdown",
     "metadata": {},
     "source": [
      "Find percentage count of rides per dropoff neighborhood"
     ]
    },
    {
     "cell_type": "code",
     "collapsed": false,
     "input": [
      "neighborhood_dcount = merged_data.groupby(\"dropoff_neighborhood\").count()\n",
      "neighborhood_dcount['count_p'] = neighborhood_dcount['fare_p'] / neighborhood_dcount['fare_p'].sum()\n",
      "top_drop_neighborhood = neighborhood_dcount['count_p'].order(ascending=False)\n",
      "top_drop_neighborhood.to_csv(\"top_drop_neighborhood.csv\")"
     ],
     "language": "python",
     "metadata": {},
     "outputs": [],
     "prompt_number": 12
    },
    {
     "cell_type": "markdown",
     "metadata": {},
     "source": [
      "Find count of rides per time of pickup"
     ]
    },
    {
     "cell_type": "code",
     "collapsed": false,
     "input": [
      "time_count = merged_data.groupby(\"pickup_hour\").count()"
     ],
     "language": "python",
     "metadata": {},
     "outputs": [],
     "prompt_number": 15
    },
    {
     "cell_type": "code",
     "collapsed": false,
     "input": [
      "time_count['count_p'] = time_count['fare_p'] / time_count['fare_p'].sum()\n",
      "count_by_hour = time_count['count_p'].order(ascending=False)"
     ],
     "language": "python",
     "metadata": {},
     "outputs": [],
     "prompt_number": 16
    },
    {
     "cell_type": "code",
     "collapsed": false,
     "input": [],
     "language": "python",
     "metadata": {},
     "outputs": []
    }
   ],
   "metadata": {}
  }
 ]
}