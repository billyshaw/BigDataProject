{
 "metadata": {
  "name": "",
  "signature": "sha256:ba706b1374e825da07b1b4f93561aaf2bfa48e86afe474789d72ac1a484ee3d8"
 },
 "nbformat": 3,
 "nbformat_minor": 0,
 "worksheets": [
  {
   "cells": [
    {
     "cell_type": "code",
     "collapsed": false,
     "input": [
      "import pandas as pd\n",
      "import os"
     ],
     "language": "python",
     "metadata": {},
     "outputs": [],
     "prompt_number": 2
    },
    {
     "cell_type": "code",
     "collapsed": false,
     "input": [
      "merged_data = pd.read_csv(\"merged_trip_fare_data.csv\")"
     ],
     "language": "python",
     "metadata": {},
     "outputs": [],
     "prompt_number": 3
    },
    {
     "cell_type": "code",
     "collapsed": false,
     "input": [
      "merged_data['fare_p'] = merged_data['tip_amount'] / merged_data['fare_amount']"
     ],
     "language": "python",
     "metadata": {},
     "outputs": [],
     "prompt_number": 5
    },
    {
     "cell_type": "markdown",
     "metadata": {},
     "source": [
      "Find percentage count of rides per pickup neighborhood"
     ]
    },
    {
     "cell_type": "code",
     "collapsed": false,
     "input": [
      "neighborhood_count = merged_data.groupby(\"pickup_neighborhood\").count()\n",
      "neighborhood_count['count_p'] = neighborhood_count['fare_p'] / neighborhood_count['fare_p'].sum()\n",
      "top_neighborhood = neighborhood_count['count_p'].order(ascending=False)\n",
      "top_neighborhood.to_csv(\"top_neighborhood.csv\")"
     ],
     "language": "python",
     "metadata": {},
     "outputs": [],
     "prompt_number": 6
    },
    {
     "cell_type": "markdown",
     "metadata": {},
     "source": [
      "Find percentage count of rides per dropoff neighborhood"
     ]
    },
    {
     "cell_type": "code",
     "collapsed": false,
     "input": [
      "neighborhood_dcount = merged_data.groupby(\"dropoff_neighborhood\").count()\n",
      "neighborhood_dcount['count_p'] = neighborhood_dcount['fare_p'] / neighborhood_dcount['fare_p'].sum()\n",
      "top_drop_neighborhood = neighborhood_dcount['count_p'].order(ascending=False)\n",
      "top_drop_neighborhood.to_csv(\"top_drop_neighborhood.csv\")"
     ],
     "language": "python",
     "metadata": {},
     "outputs": [],
     "prompt_number": 12
    },
    {
     "cell_type": "markdown",
     "metadata": {},
     "source": [
      "Find count of rides per time of pickup"
     ]
    },
    {
     "cell_type": "code",
     "collapsed": false,
     "input": [
      "time_count = merged_data.groupby(\"pickup_hour\").count()\n",
      "time_count['count_p'] = time_count['fare_p'] / time_count['fare_p'].sum()\n",
      "count_by_hour = time_count['count_p'].order(ascending=False)\n",
      "count_by_hour.to_csv(\"count_by_pickup_hour.csv\")"
     ],
     "language": "python",
     "metadata": {},
     "outputs": [],
     "prompt_number": 15
    },
    {
     "cell_type": "markdown",
     "metadata": {},
     "source": [
      "Find avg speed by time"
     ]
    },
    {
     "cell_type": "code",
     "collapsed": false,
     "input": [
      "time = merged_data.groupby(\"pickup_hour\").mean()\n",
      "time['speed'] = time['trip_distance'] * 3600 / time['trip_time_in_secs']\n",
      "time_speed = time['speed'].order(ascending=False)\n",
      "time_speed.to_csv(\"avg_speed_per_hour.csv\")"
     ],
     "language": "python",
     "metadata": {},
     "outputs": [],
     "prompt_number": 20
    },
    {
     "cell_type": "markdown",
     "metadata": {},
     "source": [
      "Find average tip in NYC"
     ]
    },
    {
     "cell_type": "code",
     "collapsed": false,
     "input": [
      "merged_data.query(\"payment_type == 'CRD'\")['fare_p'].mean()"
     ],
     "language": "python",
     "metadata": {},
     "outputs": [
      {
       "metadata": {},
       "output_type": "pyout",
       "prompt_number": 23,
       "text": [
        "0.20067862573763867"
       ]
      }
     ],
     "prompt_number": 23
    },
    {
     "cell_type": "markdown",
     "metadata": {},
     "source": [
      "Find top average tip per pickup neighborhood"
     ]
    },
    {
     "cell_type": "code",
     "collapsed": false,
     "input": [
      "avg = merged_data.query(\"payment_type == 'CRD'\").groupby('pickup_neighborhood').mean()\n",
      "avg_farep = avg['fare_p'].order(ascending=False)\n",
      "avg_farep.to_csv(\"avg_farep_neighborhood.csv\")"
     ],
     "language": "python",
     "metadata": {},
     "outputs": [],
     "prompt_number": 24
    },
    {
     "cell_type": "code",
     "collapsed": false,
     "input": [
      "mq = merged_data.query(\"payment_type == 'CRD'\").groupby(['pickup_neighborhood']).count()['fare_p']\n",
      "avg['count'] = mq\n",
      "avg_farep_10k = avg.query(\"count > 10000\")['fare_p'].order(ascending=False)\n",
      "avg_farep_10k.to_csv(\"avg_farep_10k.csv\")"
     ],
     "language": "python",
     "metadata": {},
     "outputs": [],
     "prompt_number": 32
    },
    {
     "cell_type": "code",
     "collapsed": false,
     "input": [
      "avg_farep_100k = avg.query(\"count > 100000\")['fare_p'].order(ascending=False)"
     ],
     "language": "python",
     "metadata": {},
     "outputs": [],
     "prompt_number": 49
    },
    {
     "cell_type": "code",
     "collapsed": false,
     "input": [
      "avg_farep_100k"
     ],
     "language": "python",
     "metadata": {},
     "outputs": [
      {
       "metadata": {},
       "output_type": "pyout",
       "prompt_number": 48,
       "text": [
        "pickup_neighborhood\n",
        "Diamond District       0.207771\n",
        "Koreatown              0.206926\n",
        "Murray Hill            0.205154\n",
        "San Juan Hill          0.204591\n",
        "Chelsea                0.203400\n",
        "Tudor City             0.203345\n",
        "Flatiron               0.203218\n",
        "Rose Hill              0.201676\n",
        "Greenwich Village      0.201333\n",
        "East Village           0.200058\n",
        "Lincoln Towers         0.199947\n",
        "Hell's Kitchen         0.199663\n",
        "Fulton Houses          0.199348\n",
        "Upper East Side        0.198059\n",
        "Yorkville              0.195212\n",
        "Name: fare_p, dtype: float64"
       ]
      }
     ],
     "prompt_number": 48
    },
    {
     "cell_type": "code",
     "collapsed": false,
     "input": [],
     "language": "python",
     "metadata": {},
     "outputs": []
    }
   ],
   "metadata": {}
  }
 ]
}