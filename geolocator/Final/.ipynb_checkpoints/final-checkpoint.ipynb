{
 "metadata": {
  "name": "",
  "signature": "sha256:52b4087d7a1df6251b95b0084b2e4956e9bd4bea78bf04842107761eb95ba341"
 },
 "nbformat": 3,
 "nbformat_minor": 0,
 "worksheets": [
  {
   "cells": [
    {
     "cell_type": "code",
     "collapsed": false,
     "input": [
      "import pandas as pd\n",
      "import numpy as np\n",
      "import os"
     ],
     "language": "python",
     "metadata": {},
     "outputs": [],
     "prompt_number": 158
    },
    {
     "cell_type": "code",
     "collapsed": false,
     "input": [
      "merged_data = pd.read_csv(\"merged_trip_fare_data.csv\")"
     ],
     "language": "python",
     "metadata": {},
     "outputs": [],
     "prompt_number": 3
    },
    {
     "cell_type": "code",
     "collapsed": false,
     "input": [
      "merged_data['fare_p'] = merged_data['tip_amount'] / merged_data['fare_amount']"
     ],
     "language": "python",
     "metadata": {},
     "outputs": [],
     "prompt_number": 5
    },
    {
     "cell_type": "code",
     "collapsed": false,
     "input": [
      "merged_data['speed'] = merged_data['trip_distance'] * 3600/ merged_data['trip_time_in_secs']"
     ],
     "language": "python",
     "metadata": {},
     "outputs": [],
     "prompt_number": 153
    },
    {
     "cell_type": "markdown",
     "metadata": {},
     "source": [
      "Find percentage count of rides per pickup neighborhood"
     ]
    },
    {
     "cell_type": "code",
     "collapsed": false,
     "input": [
      "neighborhood_count = merged_data.groupby(\"pickup_neighborhood\").count()\n",
      "neighborhood_count['count_p'] = neighborhood_count['fare_p'] / neighborhood_count['fare_p'].sum()\n",
      "top_neighborhood = neighborhood_count['count_p'].order(ascending=False)\n",
      "top_neighborhood.to_csv(\"top_neighborhood.csv\")"
     ],
     "language": "python",
     "metadata": {},
     "outputs": [],
     "prompt_number": 6
    },
    {
     "cell_type": "markdown",
     "metadata": {},
     "source": [
      "Find percentage count of rides per dropoff neighborhood"
     ]
    },
    {
     "cell_type": "code",
     "collapsed": false,
     "input": [
      "neighborhood_dcount = merged_data.groupby(\"dropoff_neighborhood\").count()\n",
      "neighborhood_dcount['count_p'] = neighborhood_dcount['fare_p'] / neighborhood_dcount['fare_p'].sum()\n",
      "top_drop_neighborhood = neighborhood_dcount['count_p'].order(ascending=False)\n",
      "top_drop_neighborhood.to_csv(\"top_drop_neighborhood.csv\")"
     ],
     "language": "python",
     "metadata": {},
     "outputs": [],
     "prompt_number": 12
    },
    {
     "cell_type": "markdown",
     "metadata": {},
     "source": [
      "Find count of rides per time of pickup"
     ]
    },
    {
     "cell_type": "code",
     "collapsed": false,
     "input": [
      "time_count = merged_data.groupby(\"pickup_hour\").count()\n",
      "time_count['count_p'] = time_count['fare_p'] / time_count['fare_p'].sum()\n",
      "count_by_hour = time_count['count_p'].order(ascending=False)\n",
      "count_by_hour.to_csv(\"count_by_pickup_hour.csv\")"
     ],
     "language": "python",
     "metadata": {},
     "outputs": [],
     "prompt_number": 15
    },
    {
     "cell_type": "markdown",
     "metadata": {},
     "source": [
      "Find avg speed by time"
     ]
    },
    {
     "cell_type": "code",
     "collapsed": false,
     "input": [
      "time = merged_data.groupby(\"pickup_hour\").mean()\n",
      "time['speed'] = time['trip_distance'] * 3600 / time['trip_time_in_secs']\n",
      "time_speed = time['speed'].order(ascending=False)\n",
      "time_speed.to_csv(\"avg_speed_per_hour.csv\")"
     ],
     "language": "python",
     "metadata": {},
     "outputs": [],
     "prompt_number": 20
    },
    {
     "cell_type": "markdown",
     "metadata": {},
     "source": [
      "Find average tip in NYC"
     ]
    },
    {
     "cell_type": "code",
     "collapsed": false,
     "input": [
      "merged_data.query(\"payment_type == 'CRD'\")['fare_p'].describe()"
     ],
     "language": "python",
     "metadata": {},
     "outputs": [
      {
       "metadata": {},
       "output_type": "pyout",
       "prompt_number": 66,
       "text": [
        "count    38355239.000000\n",
        "mean            0.200679\n",
        "std             0.155551\n",
        "min             0.000000\n",
        "25%             0.160000\n",
        "50%             0.207692\n",
        "75%             0.230769\n",
        "max            80.000000\n",
        "dtype: float64"
       ]
      }
     ],
     "prompt_number": 66
    },
    {
     "cell_type": "code",
     "collapsed": false,
     "input": [
      "merged_data.query(\"fare_p == 80\")"
     ],
     "language": "python",
     "metadata": {},
     "outputs": [
      {
       "html": [
        "<div style=\"max-height:1000px;max-width:1500px;overflow:auto;\">\n",
        "<table border=\"1\" class=\"dataframe\">\n",
        "  <thead>\n",
        "    <tr style=\"text-align: right;\">\n",
        "      <th></th>\n",
        "      <th>Unnamed: 0</th>\n",
        "      <th>passenger_count</th>\n",
        "      <th>trip_time_in_secs</th>\n",
        "      <th>trip_distance</th>\n",
        "      <th>pickup_neighborhood</th>\n",
        "      <th>pickup_hour</th>\n",
        "      <th>dropoff_neighborhood</th>\n",
        "      <th>payment_type</th>\n",
        "      <th>fare_amount</th>\n",
        "      <th>surcharge</th>\n",
        "      <th>tip_amount</th>\n",
        "      <th>total_amount</th>\n",
        "      <th>fare_p</th>\n",
        "    </tr>\n",
        "  </thead>\n",
        "  <tbody>\n",
        "    <tr>\n",
        "      <th>49953906</th>\n",
        "      <td> 49953906</td>\n",
        "      <td> 1</td>\n",
        "      <td> 7</td>\n",
        "      <td> 0</td>\n",
        "      <td> Glen Oaks</td>\n",
        "      <td> 12</td>\n",
        "      <td> Glen Oaks</td>\n",
        "      <td> CRD</td>\n",
        "      <td> 2.5</td>\n",
        "      <td> 0</td>\n",
        "      <td> 200</td>\n",
        "      <td> 203</td>\n",
        "      <td> 80</td>\n",
        "    </tr>\n",
        "  </tbody>\n",
        "</table>\n",
        "</div>"
       ],
       "metadata": {},
       "output_type": "pyout",
       "prompt_number": 67,
       "text": [
        "          Unnamed: 0  passenger_count  trip_time_in_secs  trip_distance  \\\n",
        "49953906    49953906                1                  7              0   \n",
        "\n",
        "         pickup_neighborhood  pickup_hour dropoff_neighborhood payment_type  \\\n",
        "49953906           Glen Oaks           12            Glen Oaks          CRD   \n",
        "\n",
        "          fare_amount  surcharge  tip_amount  total_amount  fare_p  \n",
        "49953906          2.5          0         200           203      80  "
       ]
      }
     ],
     "prompt_number": 67
    },
    {
     "cell_type": "markdown",
     "metadata": {},
     "source": [
      "NUMBER OF PEOPLE WHO DIDNT TIP"
     ]
    },
    {
     "cell_type": "code",
     "collapsed": false,
     "input": [
      "zero_p = merged_data.query(\"payment_type == 'CRD'\")['fare_p']\n",
      "\n",
      "no_tip = float(zero_p[zero_p == 0].count())\n",
      "total_count = float(zero_p.count())"
     ],
     "language": "python",
     "metadata": {},
     "outputs": []
    },
    {
     "cell_type": "code",
     "collapsed": false,
     "input": [
      "no_tip/ total_count"
     ],
     "language": "python",
     "metadata": {},
     "outputs": [
      {
       "metadata": {},
       "output_type": "pyout",
       "prompt_number": 138,
       "text": [
        "0.03024809726775526"
       ]
      }
     ],
     "prompt_number": 138
    },
    {
     "cell_type": "code",
     "collapsed": false,
     "input": [
      "no_tip"
     ],
     "language": "python",
     "metadata": {},
     "outputs": [
      {
       "metadata": {},
       "output_type": "pyout",
       "prompt_number": 139,
       "text": [
        "1160173.0"
       ]
      }
     ],
     "prompt_number": 139
    },
    {
     "cell_type": "markdown",
     "metadata": {},
     "source": [
      "Find top average tip per pickup neighborhood"
     ]
    },
    {
     "cell_type": "code",
     "collapsed": false,
     "input": [
      "avg = merged_data.query(\"payment_type == 'CRD'\").groupby('pickup_neighborhood').mean()\n",
      "avg_farep = avg['fare_p'].order(ascending=False)\n",
      "avg_farep.to_csv(\"avg_farep_neighborhood.csv\")"
     ],
     "language": "python",
     "metadata": {},
     "outputs": [],
     "prompt_number": 24
    },
    {
     "cell_type": "markdown",
     "metadata": {},
     "source": [
      "Find avg fare by neighborhood, grouped by count"
     ]
    },
    {
     "cell_type": "code",
     "collapsed": false,
     "input": [
      "mq = merged_data.query(\"payment_type == 'CRD'\").groupby(['pickup_neighborhood']).count()['fare_p']\n",
      "avg['count'] = mq\n",
      "avg_farep_10k = avg.query(\"count > 10000\")['fare_p'].order(ascending=False)\n",
      "avg_farep_10k.to_csv(\"avg_farep_10k.csv\")\n",
      "avg_farep_100k = avg.query(\"count > 100000\")['fare_p'].order(ascending=False)\n",
      "avg_farep_100k.to_csv(\"avg_farep_100k.csv\")\n",
      "avg_farep_1m = avg.query(\"count > 1000000\")['fare_p'].order(ascending=False)\n",
      "avg_farep_1m.to_csv(\"avg_farep_1m.csv\")"
     ],
     "language": "python",
     "metadata": {},
     "outputs": [],
     "prompt_number": 32
    },
    {
     "cell_type": "markdown",
     "metadata": {},
     "source": [
      "Find average tip per time of the the day"
     ]
    },
    {
     "cell_type": "code",
     "collapsed": false,
     "input": [
      "avg_drp = merged_data.query(\"payment_type == 'CRD'\").groupby('pickup_hour').mean()['fare_p']\n",
      "avg_drp.order(ascending=False)\n",
      "avg_drp.to_csv(\"avg_tip_by_hour.csv\")"
     ],
     "language": "python",
     "metadata": {},
     "outputs": [],
     "prompt_number": 55
    },
    {
     "cell_type": "code",
     "collapsed": false,
     "input": [
      "import matplotlib\n",
      "%matplotlib inline "
     ],
     "language": "python",
     "metadata": {},
     "outputs": [],
     "prompt_number": 61
    },
    {
     "cell_type": "markdown",
     "metadata": {},
     "source": [
      "Find avg tip per distance group"
     ]
    },
    {
     "cell_type": "code",
     "collapsed": false,
     "input": [
      "credit_card = merged_data.query(\"payment_type == 'CRD'\")\n",
      "distance_group = credit_card.groupby(pd.cut(credit_card[\"trip_distance\"], np.arange(0, 100, 5)))"
     ],
     "language": "python",
     "metadata": {},
     "outputs": [],
     "prompt_number": 178
    },
    {
     "cell_type": "code",
     "collapsed": false,
     "input": [
      "tip_by_distance = distance_group['fare_p'].mean()"
     ],
     "language": "python",
     "metadata": {},
     "outputs": [],
     "prompt_number": 180
    },
    {
     "cell_type": "code",
     "collapsed": false,
     "input": [
      "tip_by_distance.to_csv(\"tip_by_distance.csv\")"
     ],
     "language": "python",
     "metadata": {},
     "outputs": [],
     "prompt_number": 181
    },
    {
     "cell_type": "markdown",
     "metadata": {},
     "source": [
      "Find cash/crd ratios (variable name misleading)"
     ]
    },
    {
     "cell_type": "code",
     "collapsed": false,
     "input": [
      "payment_type_count = merged_data.groupby('payment_type').count()\n",
      "payment_type_count['type_p'] = payment_type_count['fare_p'] / payment_type_count['fare_p'].sum()"
     ],
     "language": "python",
     "metadata": {},
     "outputs": [],
     "prompt_number": 114
    },
    {
     "cell_type": "code",
     "collapsed": false,
     "input": [
      "payment_type_neighborhood['type_p']"
     ],
     "language": "python",
     "metadata": {},
     "outputs": [
      {
       "metadata": {},
       "output_type": "pyout",
       "prompt_number": 76,
       "text": [
        "payment_type\n",
        "CRD             0.535110\n",
        "CSH             0.460671\n",
        "DIS             0.000736\n",
        "NOC             0.002307\n",
        "UNK             0.001176\n",
        "Name: type_p, dtype: float64"
       ]
      }
     ],
     "prompt_number": 76
    },
    {
     "cell_type": "markdown",
     "metadata": {},
     "source": [
      "Find cash/crd ratios per neighborhood"
     ]
    },
    {
     "cell_type": "code",
     "collapsed": false,
     "input": [
      "payment = merged_data.groupby(['dropoff_neighborhood', 'payment_type']).count()['fare_p']"
     ],
     "language": "python",
     "metadata": {},
     "outputs": [],
     "prompt_number": 77
    },
    {
     "cell_type": "code",
     "collapsed": false,
     "input": [
      "payment.describe()"
     ],
     "language": "python",
     "metadata": {},
     "outputs": [
      {
       "metadata": {},
       "output_type": "pyout",
       "prompt_number": 113,
       "text": [
        "count       1134.000000\n",
        "mean       63199.836861\n",
        "std       266103.468387\n",
        "min            1.000000\n",
        "25%           35.000000\n",
        "50%          478.500000\n",
        "75%         5185.500000\n",
        "max      2510830.000000\n",
        "dtype: float64"
       ]
      }
     ],
     "prompt_number": 113
    },
    {
     "cell_type": "code",
     "collapsed": false,
     "input": [
      "payment.to_csv(\"payment_type_by_neighborhood.csv\")"
     ],
     "language": "python",
     "metadata": {},
     "outputs": [],
     "prompt_number": 112
    },
    {
     "cell_type": "markdown",
     "metadata": {},
     "source": [
      "Find payment type by time"
     ]
    },
    {
     "cell_type": "code",
     "collapsed": false,
     "input": [
      "payment_type_by_time = merged_data.groupby(['pickup_hour', 'payment_type']).count()['fare_p']"
     ],
     "language": "python",
     "metadata": {},
     "outputs": [],
     "prompt_number": 142
    },
    {
     "cell_type": "code",
     "collapsed": false,
     "input": [
      "payment_type_by_time.to_csv(\"payment_type_by_time.csv\")"
     ],
     "language": "python",
     "metadata": {},
     "outputs": [],
     "prompt_number": 147
    },
    {
     "cell_type": "code",
     "collapsed": false,
     "input": [],
     "language": "python",
     "metadata": {},
     "outputs": []
    }
   ],
   "metadata": {}
  }
 ]
}